{
  "nbformat": 4,
  "nbformat_minor": 0,
  "metadata": {
    "colab": {
      "provenance": [],
      "authorship_tag": "ABX9TyN1nQPb1mFz+KirFea86mss",
      "include_colab_link": true
    },
    "kernelspec": {
      "name": "python3",
      "display_name": "Python 3"
    },
    "language_info": {
      "name": "python"
    }
  },
  "cells": [
    {
      "cell_type": "markdown",
      "metadata": {
        "id": "view-in-github",
        "colab_type": "text"
      },
      "source": [
        "<a href=\"https://colab.research.google.com/github/nikhils2304/21CSS101J-RA2211042010037-Python/blob/main/RA2211042010037.ipynb\" target=\"_parent\"><img src=\"https://colab.research.google.com/assets/colab-badge.svg\" alt=\"Open In Colab\"/></a>"
      ]
    },
    {
      "cell_type": "code",
      "execution_count": null,
      "metadata": {
        "id": "fsYsy_ECFRnZ",
        "colab": {
          "base_uri": "https://localhost:8080/"
        },
        "outputId": "f146fb03-3a74-43a8-c4d0-a67d25e31d02"
      },
      "outputs": [
        {
          "output_type": "stream",
          "name": "stdout",
          "text": [
            "Hello world!\n"
          ]
        }
      ],
      "source": [
        "print (\"Hello world!\")"
      ]
    },
    {
      "cell_type": "code",
      "source": [
        "a = \"Hi\"\n",
        "print (a * 5)"
      ],
      "metadata": {
        "colab": {
          "base_uri": "https://localhost:8080/"
        },
        "id": "ZIr64hZfL0sE",
        "outputId": "5417e83c-4ae0-4ab9-8260-91468da9ea63"
      },
      "execution_count": null,
      "outputs": [
        {
          "output_type": "stream",
          "name": "stdout",
          "text": [
            "HiHiHiHiHi\n"
          ]
        }
      ]
    },
    {
      "cell_type": "code",
      "source": [
        "p = 2000\n",
        "r = 5\n",
        "t = 2\n",
        "si = (p*r*t)/100\n",
        "print (\"simple interest = \",si)"
      ],
      "metadata": {
        "id": "LcxSzpr_MaE0",
        "colab": {
          "base_uri": "https://localhost:8080/"
        },
        "outputId": "8942c33c-ffd3-4baf-a0ee-9bbab506ce14"
      },
      "execution_count": null,
      "outputs": [
        {
          "output_type": "stream",
          "name": "stdout",
          "text": [
            "simple interest =  200.0\n"
          ]
        }
      ]
    },
    {
      "cell_type": "code",
      "source": [
        "if 5 > 2:\n",
        "  print(\"Five is greater than two!\")\n",
        "else: \n",
        "    print(\"Five is not greater than two\")"
      ],
      "metadata": {
        "colab": {
          "base_uri": "https://localhost:8080/"
        },
        "id": "HMr9gFayOxP1",
        "outputId": "21a2fe5a-f8aa-41f6-d39d-3133b09d3b81"
      },
      "execution_count": null,
      "outputs": [
        {
          "output_type": "stream",
          "name": "stdout",
          "text": [
            "Five is greater than two!\n"
          ]
        }
      ]
    },
    {
      "cell_type": "code",
      "source": [
        "x = 5\n",
        "print(type(x)) # scanning datatype"
      ],
      "metadata": {
        "id": "rWBFLEUUQ8vo"
      },
      "execution_count": null,
      "outputs": []
    }
  ]
}