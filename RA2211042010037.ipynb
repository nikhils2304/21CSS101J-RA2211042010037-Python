{
  "nbformat": 4,
  "nbformat_minor": 0,
  "metadata": {
    "colab": {
      "provenance": [],
      "authorship_tag": "ABX9TyMs8s7Zy6eDoXSpX7bg64Me",
      "include_colab_link": true
    },
    "kernelspec": {
      "name": "python3",
      "display_name": "Python 3"
    },
    "language_info": {
      "name": "python"
    }
  },
  "cells": [
    {
      "cell_type": "markdown",
      "metadata": {
        "id": "view-in-github",
        "colab_type": "text"
      },
      "source": [
        "<a href=\"https://colab.research.google.com/github/nikhils2304/21CSS101J-RA2211042010037-Python/blob/main/RA2211042010037.ipynb\" target=\"_parent\"><img src=\"https://colab.research.google.com/assets/colab-badge.svg\" alt=\"Open In Colab\"/></a>"
      ]
    },
    {
      "cell_type": "code",
      "execution_count": null,
      "metadata": {
        "id": "fsYsy_ECFRnZ",
        "colab": {
          "base_uri": "https://localhost:8080/"
        },
        "outputId": "f146fb03-3a74-43a8-c4d0-a67d25e31d02"
      },
      "outputs": [
        {
          "output_type": "stream",
          "name": "stdout",
          "text": [
            "Hello world!\n"
          ]
        }
      ],
      "source": [
        "print (\"Hello world!\")"
      ]
    },
    {
      "cell_type": "code",
      "source": [
        "a = \"Hi\"\n",
        "print (a * 5)"
      ],
      "metadata": {
        "colab": {
          "base_uri": "https://localhost:8080/"
        },
        "id": "ZIr64hZfL0sE",
        "outputId": "5417e83c-4ae0-4ab9-8260-91468da9ea63"
      },
      "execution_count": null,
      "outputs": [
        {
          "output_type": "stream",
          "name": "stdout",
          "text": [
            "HiHiHiHiHi\n"
          ]
        }
      ]
    },
    {
      "cell_type": "code",
      "source": [
        "p = 2000\n",
        "r = 5\n",
        "t = 2\n",
        "si = (p*r*t)/100\n",
        "print (\"simple interest = \",si)"
      ],
      "metadata": {
        "id": "LcxSzpr_MaE0",
        "colab": {
          "base_uri": "https://localhost:8080/"
        },
        "outputId": "8942c33c-ffd3-4baf-a0ee-9bbab506ce14"
      },
      "execution_count": null,
      "outputs": [
        {
          "output_type": "stream",
          "name": "stdout",
          "text": [
            "simple interest =  200.0\n"
          ]
        }
      ]
    },
    {
      "cell_type": "code",
      "source": [
        "if 5 > 2:\n",
        "  print(\"Five is greater than two!\")\n",
        "else: \n",
        "    print(\"Five is not greater than two\")"
      ],
      "metadata": {
        "colab": {
          "base_uri": "https://localhost:8080/"
        },
        "id": "HMr9gFayOxP1",
        "outputId": "21a2fe5a-f8aa-41f6-d39d-3133b09d3b81"
      },
      "execution_count": null,
      "outputs": [
        {
          "output_type": "stream",
          "name": "stdout",
          "text": [
            "Five is greater than two!\n"
          ]
        }
      ]
    },
    {
      "cell_type": "code",
      "source": [
        "x = 5\n",
        "print(type(x)) #scanning datatype"
      ],
      "metadata": {
        "colab": {
          "base_uri": "https://localhost:8080/"
        },
        "id": "rWBFLEUUQ8vo",
        "outputId": "e4fed6a4-9ba7-4372-8e29-54612778d6c5"
      },
      "execution_count": null,
      "outputs": [
        {
          "output_type": "stream",
          "name": "stdout",
          "text": [
            "<class 'int'>\n"
          ]
        }
      ]
    },
    {
      "cell_type": "code",
      "source": [
        "x = \"Hello World\"\n",
        "print(len(x)) #length of a string"
      ],
      "metadata": {
        "id": "-g_QUxMXRjyw",
        "colab": {
          "base_uri": "https://localhost:8080/"
        },
        "outputId": "0e62309e-5cec-4f96-87c0-716b5aca5527"
      },
      "execution_count": null,
      "outputs": [
        {
          "output_type": "stream",
          "name": "stdout",
          "text": [
            "11\n"
          ]
        }
      ]
    },
    {
      "cell_type": "code",
      "source": [
        "txt = \"Hello World\"\n",
        "x = txt[0:3] #extracting particular part of a string\n",
        "print (x)\n"
      ],
      "metadata": {
        "colab": {
          "base_uri": "https://localhost:8080/"
        },
        "id": "bsxx80EKSmyT",
        "outputId": "d25c1031-c26b-4bef-e37b-11009217b5a2"
      },
      "execution_count": null,
      "outputs": [
        {
          "output_type": "stream",
          "name": "stdout",
          "text": [
            "Hel\n"
          ]
        }
      ]
    },
    {
      "cell_type": "code",
      "source": [
        "txt = \" Hello World \"\n",
        "x = txt.strip() #removing whitespaces from a string\n",
        "print (x)\n"
      ],
      "metadata": {
        "id": "M8z7mixWS4uK",
        "outputId": "7670db9c-cdf3-4e67-80e3-c628b81d2466",
        "colab": {
          "base_uri": "https://localhost:8080/"
        }
      },
      "execution_count": null,
      "outputs": [
        {
          "output_type": "stream",
          "name": "stdout",
          "text": [
            "Hello World\n"
          ]
        }
      ]
    },
    {
      "cell_type": "code",
      "source": [
        "txt = \" Hello World \"\n",
        "x = txt.upper() #ucase of string\n",
        "print (x)\n"
      ],
      "metadata": {
        "colab": {
          "base_uri": "https://localhost:8080/"
        },
        "id": "iHqvNySfTi0B",
        "outputId": "187645f1-bcbf-4b4f-e1f9-e92cf44141e2"
      },
      "execution_count": null,
      "outputs": [
        {
          "output_type": "stream",
          "name": "stdout",
          "text": [
            " HELLO WORLD \n"
          ]
        }
      ]
    },
    {
      "cell_type": "code",
      "source": [
        "txt = \"Hello World\"\n",
        "txt = txt.replace(\"H\",\"J\") #replacing characters in a string\n",
        "print (txt)"
      ],
      "metadata": {
        "colab": {
          "base_uri": "https://localhost:8080/"
        },
        "id": "o41jy2g5Txdg",
        "outputId": "23f58e81-78ce-4658-b3fd-93a81e72f7e0"
      },
      "execution_count": null,
      "outputs": [
        {
          "output_type": "stream",
          "name": "stdout",
          "text": [
            "Jello World\n"
          ]
        }
      ]
    },
    {
      "cell_type": "code",
      "source": [
        "age = 36\n",
        "txt = \"My name is John, and I am {}\" #syntax to add a placeholder\n",
        "print(txt.format(age))"
      ],
      "metadata": {
        "colab": {
          "base_uri": "https://localhost:8080/"
        },
        "id": "sm1erF4OUZbB",
        "outputId": "8831b9a0-e11e-4fef-fd29-00b98377a5ae"
      },
      "execution_count": null,
      "outputs": [
        {
          "output_type": "stream",
          "name": "stdout",
          "text": [
            "My name is John, and I am 36\n"
          ]
        }
      ]
    },
    {
      "cell_type": "code",
      "source": [
        "fruits = [\"apple\", \"banana\"]\n",
        "if \"apple\" in fruits:\n",
        "  print(\"Yes, apple is a fruit!\") #in operator"
      ],
      "metadata": {
        "colab": {
          "base_uri": "https://localhost:8080/"
        },
        "id": "1Bzzi6lQU8IO",
        "outputId": "d2267a33-c4c4-4656-ac51-5cb863fb0923"
      },
      "execution_count": null,
      "outputs": [
        {
          "output_type": "stream",
          "name": "stdout",
          "text": [
            "Yes, apple is a fruit!\n"
          ]
        }
      ]
    },
    {
      "cell_type": "code",
      "source": [
        "if 5 != 10:\n",
        "  print(\"5 and 10 is not equal\") #inequality operator"
      ],
      "metadata": {
        "colab": {
          "base_uri": "https://localhost:8080/"
        },
        "id": "OOuKRmEpVxPB",
        "outputId": "c5b635b3-fcd8-498b-8622-b5a2231ba519"
      },
      "execution_count": null,
      "outputs": [
        {
          "output_type": "stream",
          "name": "stdout",
          "text": [
            "5 and 10 is not equal\n"
          ]
        }
      ]
    },
    {
      "cell_type": "code",
      "source": [
        "if 5 == 10 or 4 == 4:\n",
        "  print(\"At least one of the statements is true\") #or operator"
      ],
      "metadata": {
        "colab": {
          "base_uri": "https://localhost:8080/"
        },
        "id": "AGRcnUnRWHfQ",
        "outputId": "06e89644-9060-427a-838d-57879ea1b56a"
      },
      "execution_count": null,
      "outputs": [
        {
          "output_type": "stream",
          "name": "stdout",
          "text": [
            "At least one of the statements is true\n"
          ]
        }
      ]
    },
    {
      "cell_type": "code",
      "source": [
        "fruits = [\"apple\", \"banana\", \"cherry\"] #accessing a list\n",
        "print(fruits[1])"
      ],
      "metadata": {
        "colab": {
          "base_uri": "https://localhost:8080/"
        },
        "id": "34hO_XzrWhou",
        "outputId": "e3893f2f-c09e-41f4-8544-57fab7725508"
      },
      "execution_count": null,
      "outputs": [
        {
          "output_type": "stream",
          "name": "stdout",
          "text": [
            "banana\n"
          ]
        }
      ]
    },
    {
      "cell_type": "code",
      "source": [
        "fruits = [\"apple\", \"banana\", \"cherry\"]\n",
        "fruits[0] = \"kiwi\" #replacing individual items of a list\n",
        "print(fruits)"
      ],
      "metadata": {
        "colab": {
          "base_uri": "https://localhost:8080/"
        },
        "id": "Obup93fCXFea",
        "outputId": "807dafd4-a950-414e-d8fc-9c46a9564863"
      },
      "execution_count": null,
      "outputs": [
        {
          "output_type": "stream",
          "name": "stdout",
          "text": [
            "['kiwi', 'banana', 'cherry']\n"
          ]
        }
      ]
    },
    {
      "cell_type": "code",
      "source": [
        "fruits = [\"apple\", \"banana\", \"cherry\"]\n",
        "fruits.append(\"orange\")\n",
        "print(fruits)"
      ],
      "metadata": {
        "colab": {
          "base_uri": "https://localhost:8080/"
        },
        "id": "jI96k9yGYlMs",
        "outputId": "a4a630bb-e08d-40e7-9ce9-8db15077eb73"
      },
      "execution_count": 27,
      "outputs": [
        {
          "output_type": "stream",
          "name": "stdout",
          "text": [
            "['apple', 'banana', 'cherry', 'orange']\n"
          ]
        }
      ]
    }
  ]
}