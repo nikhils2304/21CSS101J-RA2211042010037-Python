{
  "cells": [
    {
      "cell_type": "code",
      "execution_count": null,
      "metadata": {
        "colab": {
          "base_uri": "https://localhost:8080/"
        },
        "id": "K4q1xLAI9Kd0",
        "outputId": "bed154ba-464f-4f1d-858b-e1f280f2c922"
      },
      "outputs": [
        {
          "name": "stdout",
          "output_type": "stream",
          "text": [
            "Normal:\n",
            " [[ 1  2  3  4]\n",
            " [ 5  6  7  8]\n",
            " [ 9 10 11 12]]\n",
            "Slicing:\n",
            " [[ 1  2  3  4]\n",
            " [ 5  6  7  8]\n",
            " [ 9 10 11 12]] \n",
            "Slicing1:\n",
            " [[1 2 3]\n",
            " [5 6 7]] \n",
            "Slicing2:\n",
            " [[ 2  3]\n",
            " [ 6  7]\n",
            " [10 11]] \n",
            "Slicing3:\n",
            " [[ 9 10 11 12]] \n",
            "Slicing4:\n",
            " [[6 7]]\n"
          ]
        }
      ],
      "source": [
        "import numpy as np\n",
        "arr=np.array([[1,2,3,4],[5,6,7,8],[9,10,11,12]])\n",
        "print(\"Normal:\\n\",arr)\n",
        "print(\"Slicing:\\n\",arr[:,:],\"\\nSlicing1:\\n\",arr[0:2,0:3],\"\\nSlicing2:\\n\",arr[0:,1:3],\"\\nSlicing3:\\n\",arr[-1:,],\"\\nSlicing4:\\n\",arr[-2:-1,-3:-1])"
      ]
    },
    {
      "cell_type": "code",
      "execution_count": null,
      "metadata": {
        "colab": {
          "base_uri": "https://localhost:8080/"
        },
        "id": "lZPL8PtOCYz7",
        "outputId": "4b82c5ff-d723-442b-b9dd-80e7da43a891"
      },
      "outputs": [
        {
          "name": "stdout",
          "output_type": "stream",
          "text": [
            "Normal:\n",
            " [ 0  1  2  3  4  5  6  7  8  9 10 11 12 13 14 15 16 17 18 19 20 21 22 23\n",
            " 24 25 26 27 28 29 30 31 32 33 34 35 36 37 38 39]\n",
            "Slicing:\n",
            " [ 3  6  9 12 15 18 21 24]\n"
          ]
        }
      ],
      "source": [
        "arr2=np.arange(40)\n",
        "print(\"Normal:\\n\",arr2)\n",
        "print(\"Slicing:\\n\",arr2[3:25:3])"
      ]
    },
    {
      "cell_type": "code",
      "execution_count": null,
      "metadata": {
        "colab": {
          "base_uri": "https://localhost:8080/"
        },
        "id": "PqF0VKQYFAC4",
        "outputId": "fc703075-d2dc-47fc-9b47-d82f3c91cf4e"
      },
      "outputs": [
        {
          "name": "stdout",
          "output_type": "stream",
          "text": [
            "Org_arr:\n",
            " [[99 22 33]\n",
            " [44 77 66]]\n",
            "Org_arr Modified:\n",
            " [[99 22 33]\n",
            " [44 77 13]] \n",
            "Copy_arr:\n",
            " [[99 22 33]\n",
            " [44 77 13]]\n"
          ]
        }
      ],
      "source": [
        "org_arr=np.array([[99,22,33],[44,77,66]])\n",
        "print(\"Org_arr:\\n\",org_arr)\n",
        "copy_arr=org_arr\n",
        "org_arr[1,2]=13\n",
        "print(\"Org_arr Modified:\\n\",org_arr,\"\\nCopy_arr:\\n\",copy_arr)"
      ]
    },
    {
      "cell_type": "code",
      "execution_count": null,
      "metadata": {
        "colab": {
          "base_uri": "https://localhost:8080/"
        },
        "id": "Ia_Hgp24IkjQ",
        "outputId": "45946cef-81f8-44e4-c738-5f94a06d66cc"
      },
      "outputs": [
        {
          "name": "stdout",
          "output_type": "stream",
          "text": [
            "Array:\n",
            " [[ 1 20 13]\n",
            " [ 2 14  9]\n",
            " [ 3 40 23]]\n",
            "\n",
            "Row max:\n",
            " [20 14 40]\n",
            "\n",
            "Column max:\n",
            " [ 3 40 23]\n",
            "\n",
            "Sum:\n",
            " 125\n",
            "\n",
            "Column sum:\n",
            " [ 6 74 45]\n",
            "\n",
            "Row sum:\n",
            " [34 25 66]\n"
          ]
        }
      ],
      "source": [
        "axis_arr=np.array([[1,20,13],[2,14,9],[3,40,23]])\n",
        "print(\"Array:\\n\",axis_arr)\n",
        "print(\"\\nRow max:\\n\",axis_arr.max(axis=1))\n",
        "print(\"\\nColumn max:\\n\",axis_arr.max(axis=0))\n",
        "print(\"\\nSum:\\n\",axis_arr.sum())\n",
        "print(\"\\nColumn sum:\\n\",axis_arr.sum(axis=0))\n",
        "print(\"\\nRow sum:\\n\",axis_arr.sum(axis=1))"
      ]
    },
    {
      "cell_type": "code",
      "execution_count": null,
      "metadata": {
        "colab": {
          "base_uri": "https://localhost:8080/"
        },
        "id": "krEDsW2ALoA6",
        "outputId": "04cd5c5b-19c6-4c20-c5f7-c38900362b94"
      },
      "outputs": [
        {
          "name": "stdout",
          "output_type": "stream",
          "text": [
            "Power:\n",
            " [  7  64 216 256   1]\n",
            "Arctan:\n",
            " [1.42889927 1.32581766 1.10714872 0.78539816 1.57079633]\n",
            "Dot:\n",
            " 57\n",
            "Multiply:\n",
            " [[ 7 14 21 28  0]\n",
            " [ 8 16 24 32  0]\n",
            " [ 6 12 18 24  0]\n",
            " [ 4  8 12 16  0]\n",
            " [ 9 18 27 36  0]]\n",
            "LCM:\n",
            " [7 8 6 4 0]\n",
            "GCD:\n",
            " [1 2 3 4 9]\n"
          ]
        }
      ],
      "source": [
        "func_arr1=np.array([7,8,6,4,9])\n",
        "func_arr2=np.array([1,2,3,4,0])\n",
        "print(\"Power:\\n\",np.power(func_arr1,func_arr2))\n",
        "print(\"Arctan:\\n\",np.arctan2(func_arr1,func_arr2))\n",
        "print(\"Dot:\\n\",np.dot(func_arr1,func_arr2))\n",
        "print(\"Multiply:\\n\",np.outer(func_arr1,func_arr2))\n",
        "print(\"LCM:\\n\",np.lcm(func_arr1,func_arr2))\n",
        "print(\"GCD:\\n\",np.gcd(func_arr1,func_arr2))"
      ]
    },
    {
      "cell_type": "code",
      "execution_count": null,
      "metadata": {
        "colab": {
          "base_uri": "https://localhost:8080/"
        },
        "id": "3h7aIQPDN9r0",
        "outputId": "1c617ae7-aeb0-4017-ef36-9c0d99c0ad92"
      },
      "outputs": [
        {
          "name": "stdout",
          "output_type": "stream",
          "text": [
            "Array A:\n",
            " [[1 2 3]\n",
            " [1 2 3]\n",
            " [1 2 3]]\n",
            "Type: <class 'numpy.ndarray'>\n",
            "Shape: (3, 3)\n",
            "Rank: 2\n",
            "Size: 9\n",
            "Element type: int64\n"
          ]
        }
      ],
      "source": [
        "A=np.array([[1,2,3],[1,2,3],[1,2,3]])\n",
        "print(\"Array A:\\n\",A)\n",
        "print(\"Type:\",type(A))\n",
        "print(\"Shape:\",A.shape)\n",
        "print(\"Rank:\",A.ndim)\n",
        "print(\"Size:\",A.size)\n",
        "print(\"Element type:\",A.dtype)"
      ]
    },
    {
      "cell_type": "code",
      "execution_count": null,
      "metadata": {
        "colab": {
          "base_uri": "https://localhost:8080/"
        },
        "id": "1Qg1cpZT-YvS",
        "outputId": "ae908d16-a982-4864-d1d7-98be96a9f372"
      },
      "outputs": [
        {
          "name": "stdout",
          "output_type": "stream",
          "text": [
            "3D array:\n",
            " [[[ 0  1  2  3]\n",
            "  [ 4  5  6  7]\n",
            "  [ 8  9 10 11]]\n",
            "\n",
            " [[12 13 14 15]\n",
            "  [16 17 18 19]\n",
            "  [20 21 22 23]]]\n",
            "Element at index (0,0,1) is:  1\n",
            "Element at index (1,0,1) is:  13\n",
            "3D array after change is: \n",
            " [[[ 0  1  2  3]\n",
            "  [ 4  5  6  7]\n",
            "  [ 8  9 10 11]]\n",
            "\n",
            " [[12 13 31 15]\n",
            "  [16 17 18 19]\n",
            "  [20 21 22 23]]]\n"
          ]
        }
      ],
      "source": [
        "I=np.array([[[0,1,2,3],[4,5,6,7],[8,9,10,11]],[[12,13,14,15],[16,17,18,19],[20,21,22,23]]])\n",
        "print(\"3D array:\\n\",I)\n",
        "print(\"Element at index (0,0,1) is: \",I[0,0,1])\n",
        "print(\"Element at index (1,0,1) is: \",I[1,0,1])\n",
        "I[1,0,2]=31\n",
        "print(\"3D array after change is: \\n\",I)"
      ]
    },
    {
      "cell_type": "code",
      "execution_count": null,
      "metadata": {
        "colab": {
          "base_uri": "https://localhost:8080/"
        },
        "id": "hzo-qwE-_fm5",
        "outputId": "e72ddef4-5ddd-437f-d86a-4b96ba00cb2a"
      },
      "outputs": [
        {
          "name": "stdout",
          "output_type": "stream",
          "text": [
            "Element wise sum is: \n",
            " [[ 2  4  6]\n",
            " [ 8 10 12]\n",
            " [14 16 18]]\n",
            "Element wise multiplication is:\n",
            " [[ 1  4  9]\n",
            " [16 25 36]\n",
            " [49 64 81]]\n",
            "Shape of A1 is:  (3, 3)\n",
            "Size of A1 is:  9\n"
          ]
        }
      ],
      "source": [
        "A1=np.array([[1,2,3],[4,5,6],[7,8,9]])\n",
        "B1=np.array([[1,2,3],[4,5,6],[7,8,9]])\n",
        "print(\"Element wise sum is: \\n\", (A1+B1))\n",
        "print(\"Element wise multiplication is:\\n\",A1*B1)\n",
        "print(\"Shape of A1 is: \",A1.shape)\n",
        "print(\"Size of A1 is: \",A1.size)"
      ]
    },
    {
      "cell_type": "code",
      "execution_count": null,
      "metadata": {
        "colab": {
          "base_uri": "https://localhost:8080/"
        },
        "id": "2SMw7QYKA1_B",
        "outputId": "3b6ba012-0f8f-4793-86b5-ea1c67ddfa36"
      },
      "outputs": [
        {
          "name": "stdout",
          "output_type": "stream",
          "text": [
            "Joint array is:\n",
            " [1 2 3 4 5 6]\n"
          ]
        }
      ],
      "source": [
        "arr1 = np.array([1, 2, 3])\n",
        "arr2 = np.array([4, 5, 6])\n",
        "arr = np.concatenate((arr1, arr2))\n",
        "print(\"Joint array is:\\n\",arr)"
      ]
    },
    {
      "cell_type": "code",
      "execution_count": null,
      "metadata": {
        "colab": {
          "base_uri": "https://localhost:8080/"
        },
        "id": "3fygOBoQA9Xe",
        "outputId": "d8f01589-3813-4617-cfd6-71945ce3df9f"
      },
      "outputs": [
        {
          "name": "stdout",
          "output_type": "stream",
          "text": [
            "Joint 2D array is when axis=1:\n",
            " [[1 2 5 6]\n",
            " [3 4 7 8]]\n",
            "Joint 2d array when axis=0:\n",
            " [[1 2]\n",
            " [3 4]\n",
            " [5 6]\n",
            " [7 8]]\n"
          ]
        }
      ],
      "source": [
        "arr1 = np.array([[1, 2], [3, 4]])\n",
        "arr2 = np.array([[5, 6], [7, 8]])\n",
        "arr = np.concatenate((arr1, arr2), axis=1)\n",
        "print(\"Joint 2D array is when axis=1:\\n\",arr)\n",
        "arr = np.concatenate((arr1, arr2), axis=0)\n",
        "print(\"Joint 2d array when axis=0:\\n\",arr)"
      ]
    },
    {
      "cell_type": "code",
      "execution_count": null,
      "metadata": {
        "colab": {
          "base_uri": "https://localhost:8080/"
        },
        "id": "7tgZcXxUAcf6",
        "outputId": "8402a74c-3ab4-4381-801a-96278455a2be"
      },
      "outputs": [
        {
          "name": "stdout",
          "output_type": "stream",
          "text": [
            "Stacked array is:\n",
            " [[1 4]\n",
            " [2 5]\n",
            " [3 6]]\n",
            "Hstack:\n",
            " [1 2 3 4 5 6]\n",
            "Vstack:\n",
            " [[1 2 3]\n",
            " [4 5 6]]\n"
          ]
        }
      ],
      "source": [
        "arr1 = np.array([1, 2, 3])\n",
        "arr2 = np.array([4, 5, 6])\n",
        "arr = np.stack((arr1, arr2), axis=1)\n",
        "print(\"Stacked array is:\\n\",arr)\n",
        "arr=np.hstack((arr1,arr2))\n",
        "print(\"Hstack:\\n\",arr)\n",
        "arr=np.vstack((arr1,arr2))\n",
        "print(\"Vstack:\\n\",arr)"
      ]
    },
    {
      "cell_type": "code",
      "execution_count": null,
      "metadata": {
        "colab": {
          "base_uri": "https://localhost:8080/"
        },
        "id": "x9NagaKCBngy",
        "outputId": "ce9487c4-8785-488a-b7ad-402dea96d0ef"
      },
      "outputs": [
        {
          "name": "stdout",
          "output_type": "stream",
          "text": [
            "Array_split:\n",
            " [array([1, 2]), array([3, 4]), array([5, 6])]\n",
            "Split:\n",
            " [array([1, 2]), array([3, 4]), array([5, 6])]\n",
            "Split elements:\n",
            " [1 2]   [3 4]   [5 6]\n"
          ]
        }
      ],
      "source": [
        "arr=np.array([1,2,3,4,5,6])\n",
        "newarr=np.array_split(arr,3)\n",
        "print(\"Array_split:\\n\",newarr)\n",
        "newarr=np.split(arr,3)\n",
        "print(\"Split:\\n\",newarr)\n",
        "newarr=np.split(arr,3)\n",
        "print(\"Split elements:\\n\",newarr[0],\" \",newarr[1],\" \",newarr[2])"
      ]
    },
    {
      "cell_type": "code",
      "execution_count": null,
      "metadata": {
        "colab": {
          "base_uri": "https://localhost:8080/"
        },
        "id": "exfcGF4ICz_h",
        "outputId": "01e6e4de-2148-4529-fc27-047efccceea9"
      },
      "outputs": [
        {
          "name": "stdout",
          "output_type": "stream",
          "text": [
            "2D array split:\n",
            " [array([[1, 2],\n",
            "       [3, 4]]), array([[5, 6],\n",
            "       [7, 8]]), array([[ 9, 10],\n",
            "       [11, 12]])]\n",
            "Hsplit:\n",
            " [array([[ 1],\n",
            "       [ 3],\n",
            "       [ 5],\n",
            "       [ 7],\n",
            "       [ 9],\n",
            "       [11]]), array([[ 2],\n",
            "       [ 4],\n",
            "       [ 6],\n",
            "       [ 8],\n",
            "       [10],\n",
            "       [12]])]\n",
            "Vsplit:\n",
            " [array([[1, 2],\n",
            "       [3, 4],\n",
            "       [5, 6]]), array([[ 7,  8],\n",
            "       [ 9, 10],\n",
            "       [11, 12]])]\n"
          ]
        }
      ],
      "source": [
        "arr = np.array([[1, 2], [3, 4], [5, 6], [7, 8], [9, 10], [11, 12]])\n",
        "newarr = np.array_split(arr, 3)\n",
        "print(\"2D array split:\\n\",newarr)\n",
        "newarr=np.hsplit(arr,2)\n",
        "print(\"Hsplit:\\n\",newarr)\n",
        "newarr=np.vsplit(arr,2)\n",
        "print(\"Vsplit:\\n\",newarr)"
      ]
    },
    {
      "cell_type": "code",
      "execution_count": null,
      "metadata": {
        "colab": {
          "base_uri": "https://localhost:8080/"
        },
        "id": "2TIsKTWJEdJL",
        "outputId": "4c47f6c1-ae45-488b-db14-7a1a61278877"
      },
      "outputs": [
        {
          "name": "stdout",
          "output_type": "stream",
          "text": [
            "Array: [1 2 3 4 5 4 4]\n",
            "Positions where 4 is in the arr:  (array([3, 5, 6]),)\n",
            "Positions where nuber is even:  (array([1, 3, 5, 6]),)\n",
            "Array:  [3 2 0 1]\n",
            "Sorted Array:  [0 1 2 3]\n"
          ]
        }
      ],
      "source": [
        "arr = np.array([1, 2, 3, 4, 5, 4, 4])\n",
        "x = np.where(arr == 4)\n",
        "print(\"Array:\",arr)\n",
        "print(\"Positions where 4 is in the arr: \",x)\n",
        "x=np.where(arr%2==0)\n",
        "print(\"Positions where nuber is even: \",x)\n",
        "arr = np.array([3, 2, 0, 1])\n",
        "print(\"Array: \",arr)\n",
        "print(\"Sorted Array: \",np.sort(arr))"
      ]
    },
    {
      "cell_type": "code",
      "execution_count": null,
      "metadata": {
        "colab": {
          "base_uri": "https://localhost:8080/"
        },
        "id": "a4z33yBpFf46",
        "outputId": "378b5d7c-35a2-426c-a2b8-edbce697d8aa"
      },
      "outputs": [
        {
          "name": "stdout",
          "output_type": "stream",
          "text": [
            "Matrix:\n",
            " [[ 6  1  1]\n",
            " [ 4 -2  5]\n",
            " [ 2  8  7]]\n",
            "Rank of A:  3\n",
            "Trace of A:  11\n",
            "Determinant of A:  -306.0\n",
            "Inverse of A: \n",
            " [[ 0.17647059 -0.00326797 -0.02287582]\n",
            " [ 0.05882353 -0.13071895  0.08496732]\n",
            " [-0.11764706  0.1503268   0.05228758]]\n",
            "A to the power 3: \n",
            " [[336 162 228]\n",
            " [406 162 469]\n",
            " [698 702 905]]\n"
          ]
        }
      ],
      "source": [
        "A=np.array([[6,1,1],[4,-2,5],[2,8,7]])\n",
        "print(\"Matrix:\\n\",A)\n",
        "print(\"Rank of A: \",np.linalg.matrix_rank(A))\n",
        "print(\"Trace of A: \",np.trace(A))\n",
        "print(\"Determinant of A: \",np.linalg.det(A))\n",
        "print(\"Inverse of A: \\n\",np.linalg.inv(A))\n",
        "print(\"A to the power 3: \\n\",np.linalg.matrix_power(A,3))"
      ]
    },
    {
      "cell_type": "code",
      "execution_count": null,
      "metadata": {
        "colab": {
          "base_uri": "https://localhost:8080/"
        },
        "id": "t9KP_pBFGr3Z",
        "outputId": "09a3b66d-79f5-4667-9a72-d97c0f354039"
      },
      "outputs": [
        {
          "name": "stdout",
          "output_type": "stream",
          "text": [
            "Original array:\n",
            " [[1 2]\n",
            " [3 4]]\n",
            "Eigen values:  [-0.37228132  5.37228132]\n",
            "Eigen vectors:\n",
            "  [[-0.82456484 -0.41597356]\n",
            " [ 0.56576746 -0.90937671]]\n"
          ]
        }
      ],
      "source": [
        "m=np.array([[1,2],[3,4]])\n",
        "print(\"Original array:\\n\",m)\n",
        "w,v=np.linalg.eig(m)\n",
        "print(\"Eigen values: \",w)\n",
        "print(\"Eigen vectors:\\n \",v)"
      ]
    },
    {
      "cell_type": "code",
      "execution_count": null,
      "metadata": {
        "colab": {
          "base_uri": "https://localhost:8080/"
        },
        "id": "lIwex709H3I9",
        "outputId": "613c4b66-3a58-4a16-e74e-883533afa526"
      },
      "outputs": [
        {
          "name": "stdout",
          "output_type": "stream",
          "text": [
            "Random int:  94\n",
            "Random float:  0.301652029556314\n",
            "Random int array:  [52 67 75 70 18]\n"
          ]
        }
      ],
      "source": [
        "from numpy import random\n",
        "x=random.randint(100)\n",
        "print(\"Random int: \",x)\n",
        "x=random.rand()\n",
        "print(\"Random float: \",x)\n",
        "x=random.randint(100,size=(5))\n",
        "print(\"Random int array: \",x)"
      ]
    },
    {
      "cell_type": "code",
      "execution_count": null,
      "metadata": {
        "colab": {
          "base_uri": "https://localhost:8080/"
        },
        "id": "a1PmONzw9xrJ",
        "outputId": "dde22d62-6faa-44aa-c936-7b8dbc33d48c"
      },
      "outputs": [
        {
          "name": "stdout",
          "output_type": "stream",
          "text": [
            "Random choice 100:  [7 7 5 5 7 5 7 7 5 7 7 7 7 7 7 7 5 7 5 7 7 5 3 5 7 7 7 7 7 7 7 7 5 5 3 5 7\n",
            " 3 5 7 3 5 3 7 3 7 3 7 3 7 3 5 7 7 7 7 7 3 7 5 7 7 7 3 5 7 7 7 7 7 5 5 5 7\n",
            " 7 5 3 5 7 3 5 7 7 7 7 7 5 7 7 7 3 5 5 7 7 5 7 7 7 5]\n",
            "Random choice array: \n",
            " [[7 7 7 7 5]\n",
            " [5 5 7 7 7]\n",
            " [7 5 5 5 5]]\n",
            "Random normal:  [[-0.44489608  1.37582075 -0.73508285]\n",
            " [ 0.51106622 -0.70122418  1.32266215]]\n"
          ]
        }
      ],
      "source": [
        "x=random.choice([3,5,7,9],p=[0.1,0.3,0.6,0.0],size=(100))\n",
        "print(\"Random choice 100: \",x)\n",
        "x=random.choice([3,5,7,9],p=[0.1,0.3,0.6,0.0],size=(3,5))\n",
        "print(\"Random choice array: \\n\",x)\n",
        "x = random.normal(size=(2, 3))\n",
        "print(\"Random normal: \",x)"
      ]
    },
    {
      "cell_type": "code",
      "execution_count": null,
      "metadata": {
        "colab": {
          "base_uri": "https://localhost:8080/",
          "height": 621
        },
        "id": "PsSDDOrr-mFy",
        "outputId": "396053f0-b93a-4cd0-cc98-0ad842af384f"
      },
      "outputs": [
        {
          "name": "stderr",
          "output_type": "stream",
          "text": [
            "<ipython-input-7-1be1b657f303>:4: UserWarning: \n",
            "\n",
            "`distplot` is a deprecated function and will be removed in seaborn v0.14.0.\n",
            "\n",
            "Please adapt your code to use either `displot` (a figure-level function with\n",
            "similar flexibility) or `kdeplot` (an axes-level function for kernel density plots).\n",
            "\n",
            "For a guide to updating your code to use the new functions, please see\n",
            "https://gist.github.com/mwaskom/de44147ed2974457ad6372750bbe5751\n",
            "\n",
            "  sns.distplot(random.normal(size=1000), hist=False)\n"
          ]
        },
        {
          "data": {
            "image/png": "[encoded data removed]",
            "text/plain": [
              "<Figure size 640x480 with 1 Axes>"
            ]
          },
          "metadata": {},
          "output_type": "display_data"
        }
      ],
      "source": [
        "import pandas as pd\n",
        "import seaborn as sns\n",
        "import matplotlib.pyplot as plt\n",
        "sns.distplot(random.normal(size=1000), hist=False)\n",
        "plt.show()"
      ]
    },
    {
      "cell_type": "code",
      "execution_count": null,
      "metadata": {
        "colab": {
          "base_uri": "https://localhost:8080/",
          "height": 673
        },
        "id": "sZiR4wx-_Qta",
        "outputId": "fc87f075-9acd-4b5a-c0a7-e62b49914aac"
      },
      "outputs": [
        {
          "name": "stdout",
          "output_type": "stream",
          "text": [
            "Random exponential:  [[1.53701372 2.1357356  1.93181927]\n",
            " [0.6253347  0.67038749 1.47918857]]\n",
            "Random binomial:  [7 5 5 4 7 5 5 5 7 5]\n"
          ]
        },
        {
          "name": "stderr",
          "output_type": "stream",
          "text": [
            "<ipython-input-11-877605d35101>:5: UserWarning: \n",
            "\n",
            "`distplot` is a deprecated function and will be removed in seaborn v0.14.0.\n",
            "\n",
            "Please adapt your code to use either `displot` (a figure-level function with\n",
            "similar flexibility) or `histplot` (an axes-level function for histograms).\n",
            "\n",
            "For a guide to updating your code to use the new functions, please see\n",
            "https://gist.github.com/mwaskom/de44147ed2974457ad6372750bbe5751\n",
            "\n",
            "  sns.distplot(random.binomial(n=10,p=0.5,size=1000),hist=True,kde=False)\n"
          ]
        },
        {
          "data": {
            "image/png": "[encoded data removed]",
            "text/plain": [
              "<Figure size 640x480 with 1 Axes>"
            ]
          },
          "metadata": {},
          "output_type": "display_data"
        }
      ],
      "source": [
        "x = random.exponential(scale=2, size=(2, 3))\n",
        "print(\"Random exponential: \",x)\n",
        "x = random.binomial(n=10, p=0.5, size=10)\n",
        "print(\"Random binomial: \",x)\n",
        "sns.distplot(random.binomial(n=10,p=0.5,size=1000),hist=True,kde=False)\n",
        "plt.show()"
      ]
    },
    {
      "cell_type": "code",
      "execution_count": null,
      "metadata": {
        "colab": {
          "base_uri": "https://localhost:8080/"
        },
        "id": "HKLP4Z22AKFZ",
        "outputId": "64c98b51-4bfc-4919-8375-9ee8ca5c11a5"
      },
      "outputs": [
        {
          "name": "stdout",
          "output_type": "stream",
          "text": [
            "Random poisson:  [1 3 2 0 0 0 0 2 2 2]\n",
            "Random uniform:  [[0.39674275 0.62040049 0.3135483 ]\n",
            " [0.6255311  0.32518409 0.29591435]]\n",
            "Random chi-square:  [[1.73141628 0.08321509 0.7425937 ]\n",
            " [0.58177488 4.14619477 1.24350095]]\n"
          ]
        }
      ],
      "source": [
        "x=random.poisson(lam=2,size=10)\n",
        "print(\"Random poisson: \",x)\n",
        "x=random.uniform(size=(2,3))\n",
        "print(\"Random uniform: \",x)\n",
        "x=random.chisquare(df=2,size=(2,3))\n",
        "print(\"Random chi-square: \",x)"
      ]
    }
  ],
  "metadata": {
    "colab": {
      "provenance": []
    },
    "kernelspec": {
      "display_name": "Python 3",
      "name": "python3"
    },
    "language_info": {
      "name": "python"
    }
  },
  "nbformat": 4,
  "nbformat_minor": 0
}
