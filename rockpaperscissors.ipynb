{
  "nbformat": 4,
  "nbformat_minor": 0,
  "metadata": {
    "colab": {
      "provenance": [],
      "authorship_tag": "ABX9TyN15nXyE/A8VzW99ytkY/kY",
      "include_colab_link": true
    },
    "kernelspec": {
      "name": "python3",
      "display_name": "Python 3"
    },
    "language_info": {
      "name": "python"
    }
  },
  "cells": [
    {
      "cell_type": "markdown",
      "metadata": {
        "id": "view-in-github",
        "colab_type": "text"
      },
      "source": [
        "<a href=\"https://colab.research.google.com/github/nikhils2304/21CSS101J-RA2211042010037-Python/blob/main/rockpaperscissors.ipynb\" target=\"_parent\"><img src=\"https://colab.research.google.com/assets/colab-badge.svg\" alt=\"Open In Colab\"/></a>"
      ]
    },
    {
      "cell_type": "code",
      "execution_count": 2,
      "metadata": {
        "colab": {
          "base_uri": "https://localhost:8080/"
        },
        "id": "sP1I4BU01C3X",
        "outputId": "7d159cf9-079d-4991-cea8-f1a4f3dc2be4"
      },
      "outputs": [
        {
          "output_type": "stream",
          "name": "stdout",
          "text": [
            "Welcome to rock, paper, scissors!\n",
            "Please enter your choice: paper\n",
            "The computer chose paper.\n",
            "It's a tie!\n",
            "Do you want to play again? (yes/no) yes\n",
            "Please enter your choice: rock\n",
            "The computer chose scissors.\n",
            "You win!\n",
            "Do you want to play again? (yes/no) yes\n",
            "Please enter your choice: scissors\n",
            "The computer chose scissors.\n",
            "It's a tie!\n",
            "Do you want to play again? (yes/no) no\n",
            "Thanks for playing! Goodbye.\n"
          ]
        }
      ],
      "source": [
        "# Import the random module\n",
        "import random\n",
        "\n",
        "# Define a list of possible choices\n",
        "choices = ['rock', 'paper', 'scissors']\n",
        "\n",
        "# Print a welcome message\n",
        "print(\"Welcome to rock, paper, scissors!\")\n",
        "\n",
        "# Set a variable to control the main loop\n",
        "playing = True\n",
        "\n",
        "while playing:\n",
        "  # Get the player's choice\n",
        "  player_choice = input(\"Please enter your choice: \")\n",
        "\n",
        "  # Check that the player's choice is valid\n",
        "  if player_choice not in choices:\n",
        "    print(\"Sorry, that's not a valid choice. Please try again.\")\n",
        "  else:\n",
        "    # Generate a random choice for the computer\n",
        "    computer_choice = random.choice(choices)\n",
        "\n",
        "    # Print the computer's choice\n",
        "    print(f\"The computer chose {computer_choice}.\")\n",
        "\n",
        "    # Determine the winner\n",
        "    if player_choice == computer_choice:\n",
        "      print(\"It's a tie!\")\n",
        "    elif player_choice == 'rock' and computer_choice == 'scissors':\n",
        "      print(\"You win!\")\n",
        "    elif player_choice == 'paper' and computer_choice == 'rock':\n",
        "      print(\"You win!\")\n",
        "    elif player_choice == 'scissors' and computer_choice == 'paper':\n",
        "      print(\"You win!\")\n",
        "    else:\n",
        "      print(\"The computer wins.\")\n",
        "\n",
        "    # Ask the player if they want to play again\n",
        "    play_again = input(\"Do you want to play again? (yes/no) \")\n",
        "\n",
        "    # If the player doesn't want to play again, set playing to False to exit the loop\n",
        "    if play_again.lower() != 'yes':\n",
        "      playing = False\n",
        "\n",
        "# Print a goodbye message\n",
        "print(\"Thanks for playing! Goodbye.\")\n"
      ]
    },
    {
      "cell_type": "markdown",
      "source": [],
      "metadata": {
        "id": "mK2MppYpfhRI"
      }
    }
  ]
}